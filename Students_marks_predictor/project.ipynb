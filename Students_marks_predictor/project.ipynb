{
  "nbformat": 4,
  "nbformat_minor": 0,
  "metadata": {
    "colab": {
      "name": "project.ipynb",
      "provenance": [],
      "collapsed_sections": [],
      "toc_visible": true
    },
    "kernelspec": {
      "name": "python3",
      "display_name": "Python 3"
    }
  },
  "cells": [
    {
      "cell_type": "markdown",
      "metadata": {
        "id": "zxm3pszUw1E3",
        "colab_type": "text"
      },
      "source": [
        "#Importing the required libraries"
      ]
    },
    {
      "cell_type": "code",
      "metadata": {
        "id": "wyVM3PnueC17",
        "colab_type": "code",
        "colab": {}
      },
      "source": [
        "from sklearn.linear_model import LinearRegression\n",
        "import numpy as np\n",
        "import pandas as pd"
      ],
      "execution_count": 12,
      "outputs": []
    },
    {
      "cell_type": "markdown",
      "metadata": {
        "id": "q_s42AiFw9BJ",
        "colab_type": "text"
      },
      "source": [
        "# Importing the dataset\n"
      ]
    },
    {
      "cell_type": "code",
      "metadata": {
        "id": "JpdCuff-xAlU",
        "colab_type": "code",
        "colab": {
          "base_uri": "https://localhost:8080/",
          "height": 314
        },
        "outputId": "8e038bb7-f427-416b-bfa6-a0f5f7ff7159"
      },
      "source": [
        "df = pd.read_csv(\"student-mat.csv\",sep = \";\")\n",
        "df1 = pd.read_csv(\"Getting data.csv\")\n",
        "df1"
      ],
      "execution_count": 13,
      "outputs": [
        {
          "output_type": "execute_result",
          "data": {
            "text/html": [
              "<div>\n",
              "<style scoped>\n",
              "    .dataframe tbody tr th:only-of-type {\n",
              "        vertical-align: middle;\n",
              "    }\n",
              "\n",
              "    .dataframe tbody tr th {\n",
              "        vertical-align: top;\n",
              "    }\n",
              "\n",
              "    .dataframe thead th {\n",
              "        text-align: right;\n",
              "    }\n",
              "</style>\n",
              "<table border=\"1\" class=\"dataframe\">\n",
              "  <thead>\n",
              "    <tr style=\"text-align: right;\">\n",
              "      <th></th>\n",
              "      <th>30</th>\n",
              "      <th>4</th>\n",
              "      <th>25</th>\n",
              "      <th>25.1</th>\n",
              "    </tr>\n",
              "  </thead>\n",
              "  <tbody>\n",
              "    <tr>\n",
              "      <th>0</th>\n",
              "      <td>4</td>\n",
              "      <td>0</td>\n",
              "      <td>23</td>\n",
              "      <td>24</td>\n",
              "    </tr>\n",
              "    <tr>\n",
              "      <th>1</th>\n",
              "      <td>5</td>\n",
              "      <td>50</td>\n",
              "      <td>18</td>\n",
              "      <td>24</td>\n",
              "    </tr>\n",
              "    <tr>\n",
              "      <th>2</th>\n",
              "      <td>4</td>\n",
              "      <td>15</td>\n",
              "      <td>23</td>\n",
              "      <td>23</td>\n",
              "    </tr>\n",
              "    <tr>\n",
              "      <th>3</th>\n",
              "      <td>5</td>\n",
              "      <td>48</td>\n",
              "      <td>18</td>\n",
              "      <td>24</td>\n",
              "    </tr>\n",
              "    <tr>\n",
              "      <th>4</th>\n",
              "      <td>5</td>\n",
              "      <td>75</td>\n",
              "      <td>18</td>\n",
              "      <td>24</td>\n",
              "    </tr>\n",
              "    <tr>\n",
              "      <th>5</th>\n",
              "      <td>4</td>\n",
              "      <td>5</td>\n",
              "      <td>21</td>\n",
              "      <td>24</td>\n",
              "    </tr>\n",
              "    <tr>\n",
              "      <th>6</th>\n",
              "      <td>4</td>\n",
              "      <td>15</td>\n",
              "      <td>23</td>\n",
              "      <td>21</td>\n",
              "    </tr>\n",
              "    <tr>\n",
              "      <th>7</th>\n",
              "      <td>5</td>\n",
              "      <td>20</td>\n",
              "      <td>25</td>\n",
              "      <td>24</td>\n",
              "    </tr>\n",
              "    <tr>\n",
              "      <th>8</th>\n",
              "      <td>1</td>\n",
              "      <td>20</td>\n",
              "      <td>18</td>\n",
              "      <td>23</td>\n",
              "    </tr>\n",
              "  </tbody>\n",
              "</table>\n",
              "</div>"
            ],
            "text/plain": [
              "   30   4  25  25.1\n",
              "0   4   0  23    24\n",
              "1   5  50  18    24\n",
              "2   4  15  23    23\n",
              "3   5  48  18    24\n",
              "4   5  75  18    24\n",
              "5   4   5  21    24\n",
              "6   4  15  23    21\n",
              "7   5  20  25    24\n",
              "8   1  20  18    23"
            ]
          },
          "metadata": {
            "tags": []
          },
          "execution_count": 13
        }
      ]
    },
    {
      "cell_type": "markdown",
      "metadata": {
        "id": "FSLfLk87SStY",
        "colab_type": "text"
      },
      "source": [
        "# Making data suitable for the model\n"
      ]
    },
    {
      "cell_type": "code",
      "metadata": {
        "id": "q9bxxwnG1f1i",
        "colab_type": "code",
        "colab": {}
      },
      "source": [
        "X_test = df1.iloc[:, :3].values\n",
        "y_test = df1.iloc[:, -1].values\n",
        "X_train = df.iloc[:,-5:-2].values\n",
        "y_train = df.iloc[:, -2].values\n",
        "y_train  = y_train  + 5\n",
        "X_train[:,-2] = X_train[:,-2] + 5"
      ],
      "execution_count": 14,
      "outputs": []
    },
    {
      "cell_type": "markdown",
      "metadata": {
        "id": "Y6-LVhAN3bQs",
        "colab_type": "text"
      },
      "source": [
        "\n",
        "# Fitting Simple regression to data"
      ]
    },
    {
      "cell_type": "code",
      "metadata": {
        "id": "fp_hvmDg3gi0",
        "colab_type": "code",
        "colab": {
          "base_uri": "https://localhost:8080/",
          "height": 34
        },
        "outputId": "4fa961c0-2469-4a78-f649-a6e6f70040ce"
      },
      "source": [
        "regressor = LinearRegression()\n",
        "regressor.fit(X_train, y_train)"
      ],
      "execution_count": 15,
      "outputs": [
        {
          "output_type": "execute_result",
          "data": {
            "text/plain": [
              "LinearRegression(copy_X=True, fit_intercept=True, n_jobs=None, normalize=False)"
            ]
          },
          "metadata": {
            "tags": []
          },
          "execution_count": 15
        }
      ]
    },
    {
      "cell_type": "markdown",
      "metadata": {
        "id": "y3RkpInV3sbn",
        "colab_type": "text"
      },
      "source": [
        "\n",
        "# Predicting the results"
      ]
    },
    {
      "cell_type": "code",
      "metadata": {
        "id": "bklwzBo73vvr",
        "colab_type": "code",
        "colab": {
          "base_uri": "https://localhost:8080/",
          "height": 50
        },
        "outputId": "de910168-3095-44eb-bdfa-ff2bf43062fb"
      },
      "source": [
        "y_pred = regressor.predict(X_test)\n",
        "y_pred = np.array(y_pred,dtype = \"int8\")\n",
        "y_pred = y_pred.clip(min=0,max = 25)\n",
        "y_pred,y_test"
      ],
      "execution_count": 16,
      "outputs": [
        {
          "output_type": "execute_result",
          "data": {
            "text/plain": [
              "(array([25, 22, 25, 22, 22, 25, 25, 25, 22], dtype=int8),\n",
              " array([24, 24, 23, 24, 24, 24, 21, 24, 23]))"
            ]
          },
          "metadata": {
            "tags": []
          },
          "execution_count": 16
        }
      ]
    },
    {
      "cell_type": "markdown",
      "metadata": {
        "id": "fXx7bFBw4yAA",
        "colab_type": "text"
      },
      "source": [
        "\n",
        "# Checking the accuracy"
      ]
    },
    {
      "cell_type": "code",
      "metadata": {
        "id": "QK7j8ujR411j",
        "colab_type": "code",
        "colab": {
          "base_uri": "https://localhost:8080/",
          "height": 34
        },
        "outputId": "31abd012-281a-404e-973d-0b34dc7f4819"
      },
      "source": [
        "y_pred\n",
        "(1-np.sqrt(((y_pred - y_test) ** 2).mean())/15)*100"
      ],
      "execution_count": 17,
      "outputs": [
        {
          "output_type": "execute_result",
          "data": {
            "text/plain": [
              "86.66666666666667"
            ]
          },
          "metadata": {
            "tags": []
          },
          "execution_count": 17
        }
      ]
    }
  ]
}
